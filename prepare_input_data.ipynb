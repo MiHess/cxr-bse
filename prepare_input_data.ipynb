{
  "nbformat": 4,
  "nbformat_minor": 0,
  "metadata": {
    "colab": {
      "name": "prepare_input_data.ipynb",
      "version": "0.3.2",
      "provenance": [],
      "collapsed_sections": [],
      "include_colab_link": true
    },
    "kernelspec": {
      "name": "python3",
      "display_name": "Python 3"
    }
  },
  "cells": [
    {
      "cell_type": "markdown",
      "metadata": {
        "id": "view-in-github",
        "colab_type": "text"
      },
      "source": [
        "<a href=\"https://colab.research.google.com/github/MiHess/cxr-bse/blob/master/prepare_input_data.ipynb\" target=\"_parent\"><img src=\"https://colab.research.google.com/assets/colab-badge.svg\" alt=\"Open In Colab\"/></a>"
      ]
    },
    {
      "metadata": {
        "id": "vBj2A94g4bKM",
        "colab_type": "code",
        "colab": {}
      },
      "cell_type": "code",
      "source": [
        "import os\n",
        "import glob\n",
        "import numpy as np\n",
        "import PIL\n",
        "\n",
        "from tqdm import tqdm\n"
      ],
      "execution_count": 0,
      "outputs": []
    },
    {
      "metadata": {
        "id": "aAkx3FsZRGKG",
        "colab_type": "code",
        "colab": {}
      },
      "cell_type": "code",
      "source": [
        "from google.colab import drive\n",
        "\n",
        "drive.mount('/content/drive/')\n"
      ],
      "execution_count": 0,
      "outputs": []
    },
    {
      "metadata": {
        "id": "MW8KsUFa4TYs",
        "colab_type": "code",
        "colab": {}
      },
      "cell_type": "code",
      "source": [
        "bse_data_path = \"/content/drive/My Drive/dev/bse/data\"\n",
        "\n",
        "raw_jsrt_bse_path = os.path.join(bse_data_path, \"raw_jsrt_bse\")\n",
        "target_jsrt_bse_path = os.path.join(bse_data_path, \"jsrt_bse\")\n",
        "\n",
        "raw_jsrt_path = os.path.join(bse_data_path, \"raw_jsrt\")\n",
        "target_jsrt_path = os.path.join(bse_data_path, \"jsrt\")\n"
      ],
      "execution_count": 0,
      "outputs": []
    },
    {
      "metadata": {
        "id": "CqdJseqN6l_-",
        "colab_type": "code",
        "colab": {}
      },
      "cell_type": "code",
      "source": [
        "def load_raw_jsrt_image(filepath, shape=(2048, 2048)):\n",
        "    \"\"\" Loads image from disk and returns it as numpy array.\n",
        "    \"\"\"\n",
        "    with  open(filepath, \"rb\") as fid:\n",
        "        img_array = np.fromfile(fid, np.dtype('>u2')).reshape(shape) / 16\n",
        "    \n",
        "    return img_array.astype(np.uint8)\n",
        "\n",
        "\n",
        "def load_raw_jsrt_bse_image(filepath):\n",
        "    \"\"\" Loads image from disk and returns it as numpy array.\n",
        "    \"\"\"\n",
        "    img = Image.open(filepath)\n",
        "    img_array = np.array(img) / 256\n",
        "    \n",
        "    return img_array.astype(np.uint8)\n"
      ],
      "execution_count": 0,
      "outputs": []
    },
    {
      "metadata": {
        "id": "qS6j4yBHQ7Ac",
        "colab_type": "code",
        "colab": {}
      },
      "cell_type": "code",
      "source": [
        "def _downsample_image_array(img_array, factor=4):\n",
        "    \"\"\" Downsamples an image array with predefined scaling factor.\n",
        "    \n",
        "    On original shape of (2048, 2048) a factor 4 yields an image array of size (512, 512).\n",
        "    \"\"\"\n",
        "    assert isinstance(factor, int), \"factor needs to be an integer\"\n",
        "    assert factor >= 1, \"factor needs to be greater or equal 1\"\n",
        "    \n",
        "    img_array = img_array.copy()\n",
        "    \n",
        "    return img_array[::factor, ::factor]\n",
        "\n",
        "\n",
        "def _get_file_id(filepath):\n",
        "    assert os.path.exists(filepath), \"file not found\"\n",
        "    \n",
        "    filename = os.path.basename(filepath)\n",
        "    if filename.split(\".\"):\n",
        "        return filename.split(\".\")[0].upper()\n",
        "    else:\n",
        "        raise ValueError(\"invalid filename\")\n",
        "        \n",
        "    \n",
        "def _save_image(img, output_path, output_file_id, suffix=\"png\"):\n",
        "    \"\"\" Saves to disk.\n",
        "    \"\"\"\n",
        "    assert os.path.isdir(output_path), \"output directory does not exist\"\n",
        "    \n",
        "    img.save(os.path.join(output_path, output_file_id) + \".\" + suffix)\n"
      ],
      "execution_count": 0,
      "outputs": []
    },
    {
      "metadata": {
        "id": "gBsX0ib_BWSq",
        "colab_type": "code",
        "colab": {}
      },
      "cell_type": "code",
      "source": [
        "def process_raw_image(filepath, image_loader_function, output_path):\n",
        "    \"\"\" Loads, converts, downsamples, and saves an input image from either of the two sources.\n",
        "    \"\"\"\n",
        "    assert os.path.exists(filepath), \"file not found\"\n",
        "    \n",
        "    if not os.path.isdir(output_path):\n",
        "        os.makedirs(output_path)\n",
        "        \n",
        "    img_array = image_loader_function(filepath)\n",
        "    img_array = _downsample_image_array(img_array)\n",
        "\n",
        "    img = PIL.Image.fromarray(img_array)\n",
        "    img = PIL.ImageOps.invert(img)\n",
        "\n",
        "    _save_image(img, output_path, _get_file_id(filepath))\n"
      ],
      "execution_count": 0,
      "outputs": []
    },
    {
      "metadata": {
        "id": "DV11u3mqImPS",
        "colab_type": "code",
        "colab": {
          "base_uri": "https://localhost:8080/",
          "height": 34
        },
        "outputId": "76594e75-1ff0-4edb-dc55-f29ace0cbdf4"
      },
      "cell_type": "code",
      "source": [
        "raw_jsrt_bse_filepaths = glob.glob(os.path.join(raw_jsrt_bse_path, \"*.png\"))\n",
        "\n",
        "for raw_jsrt_filepath in tqdm(raw_jsrt_filepaths):\n",
        "    process_raw_image(raw_jsrt_filepath, load_raw_jsrt_image, target_jsrt_path)\n",
        "    "
      ],
      "execution_count": 163,
      "outputs": [
        {
          "output_type": "stream",
          "text": [
            "100%|██████████| 247/247 [02:41<00:00,  1.56it/s]\n"
          ],
          "name": "stderr"
        }
      ]
    },
    {
      "metadata": {
        "id": "RC41sIjOK4tp",
        "colab_type": "code",
        "colab": {
          "base_uri": "https://localhost:8080/",
          "height": 34
        },
        "outputId": "32a3f52a-8319-488a-fbbd-d0c12eb55321"
      },
      "cell_type": "code",
      "source": [
        "raw_jsrt_filepaths = glob.glob(os.path.join(raw_jsrt_path, \"*.IMG\"))\n",
        "\n",
        "for raw_jsrt_bse_filepath in tqdm(raw_jsrt_bse_filepaths):\n",
        "    process_raw_image(raw_jsrt_bse_filepath, load_raw_jsrt_bse_image, target_jsrt_bse_path)\n",
        "    "
      ],
      "execution_count": 164,
      "outputs": [
        {
          "output_type": "stream",
          "text": [
            "100%|██████████| 247/247 [03:21<00:00,  1.65it/s]\n"
          ],
          "name": "stderr"
        }
      ]
    }
  ]
}